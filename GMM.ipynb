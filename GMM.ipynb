{
 "cells": [
  {
   "cell_type": "code",
   "execution_count": 9,
   "metadata": {},
   "outputs": [],
   "source": [
    "import cv2\n",
    "from os import listdir\n",
    "from os.path import isfile, join\n",
    "import glob\n",
    "import numpy as np\n",
    "import time"
   ]
  },
  {
   "cell_type": "code",
   "execution_count": 10,
   "metadata": {},
   "outputs": [],
   "source": [
    "def GMM(pixel, mus, sigs, wts):\n",
    "    F = 0\n",
    "    assigned = False\n",
    "    dist = np.zeros(4)\n",
    "    for i in range(0,4):\n",
    "        dist[i] = pixel - mus[i]\n",
    "        if(wts[i]!=0 and ( pixel < (mus[i] + 2.5*sigs[i]) and pixel > (mus[i] - 2.5*sigs[i]))):\n",
    "            #updateparams\n",
    "            wts = [(1-0.1)*(wts[j])+0.1 if(j==i) else (1-0.1)*(wts[j]) for j in range(0,4)] #update weights\n",
    "            rh=(np.exp(-np.power(pixel - mus[i], 2) / (2 * np.power(sigs[i], 2))))*(0.399/sigs[i])*0.1 #rho calculation\n",
    "            mus[i] = (1-rh)*(mus[i])+(rh*pixel) # update means\n",
    "            sigs[i]=(1-rh)*(sigs[i])+(rh*np.power(pixel-mus[i],2)) #update variance   \n",
    "            assigned = True\n",
    "#             print(\"mus:\",mus[i])\n",
    "#             print(\"updated\") \n",
    "            break\n",
    "        elif(wts[i]==0):\n",
    "            # form new gaussian\n",
    "            for j in range(0,4):\n",
    "                if(j==i):\n",
    "                    wts[j]=0.1\n",
    "                else:\n",
    "                    wts[j]=(0.9)*wts[j]\n",
    "                                \n",
    "            #wts[i+1] = 0.1\n",
    "            mus[i] = pixel\n",
    "            sigs[i]= 19\n",
    "            assigned = True\n",
    "            break\n",
    "    \n",
    "    if (assigned == False):\n",
    "        k = np.argmin(dist)\n",
    "        wts = [(1-0.1)*(wts[j])+0.1 if(j==k) else (1-0.1)*(wts[j]) for j in range(0,4)] #update weights\n",
    "        rh=(np.exp(-np.power(pixel - mus[k], 2) / (2 * np.power(sigs[k], 2))))*(0.399/sigs[k])*0.1 #rho calculation\n",
    "        mus[k] = (1-rh)*(mus[k])+(rh*pixel) # update means\n",
    "        sigs[k]=(1-rh)*(sigs[k])+(rh*np.power(pixel-mus[k],2))\n",
    "    \n",
    "    indices = np.argsort(-(wts/sigs),axis=0)                    \n",
    "    tot = 0\n",
    "    j=0\n",
    "    while(tot<=0.06):\n",
    "        tot = tot + wts[indices[j]]\n",
    "        j=j+1\n",
    "    if i in indices[j:]:\n",
    "        # Assign curret pixel to foreground class\n",
    "        F = 255\n",
    "    \n",
    "    return mus,sigs,wts, F"
   ]
  },
  {
   "cell_type": "code",
   "execution_count": 11,
   "metadata": {},
   "outputs": [],
   "source": [
    "def init_params(frames, means, var, wts):\n",
    "    means[0] = frames[:,0]\n",
    "    var[0]= np.array([19 for i in range(var[0].shape[0])])\n",
    "    wts[0] = np.array([1 for i in range(var[0].shape[0])])"
   ]
  },
  {
   "cell_type": "code",
   "execution_count": 12,
   "metadata": {},
   "outputs": [],
   "source": [
    "# Function to extract frames\n",
    "def FrameCapture(path):\n",
    "    vidObj = cv2.VideoCapture(path)\n",
    "    count = 0\n",
    "    success = 1\n",
    "    frames = np.zeros((240,352,999))\n",
    "    while success:\n",
    "        # vidObj object calls read\n",
    "        # function extract frames\n",
    "        success, image = vidObj.read()\n",
    "        if(success):\n",
    "            # Saves the frames with frame-count\n",
    "            img_gray = cv2.cvtColor(image, cv2.COLOR_BGR2GRAY)\n",
    "            frames[:,:,count] = img_gray\n",
    "            cv2.imwrite(\"/home/ajey/Desktop/ELL784/Assignment1/Original_frames/frame_\"+str(count)+\".jpg\",img_gray)\n",
    "            count += 1\n",
    "    return frames"
   ]
  },
  {
   "cell_type": "code",
   "execution_count": null,
   "metadata": {
    "scrolled": true
   },
   "outputs": [],
   "source": [
    "if __name__ == '__main__':\n",
    "    start = time.time()\n",
    "    numFrames = 130\n",
    "    frames = np.zeros((240,352,numFrames))\n",
    "    cwd = \"/home/ajey/Desktop/ELL784/Assignment1/umcp.mpg\"\n",
    "    frames = FrameCapture(cwd)\n",
    "    out = cv2.VideoWriter(\"output.avi\", cv2.VideoWriter_fourcc(*'XVID'), 30, (352,240), 0)\n",
    "    back = cv2.VideoWriter(\"back.avi\", cv2.VideoWriter_fourcc(*'XVID'), 30, (352,240), 0)\n",
    "    output = np.zeros((frames.shape[0]*frames.shape[1], frames.shape[2]))\n",
    "    frames = frames.reshape((frames.shape[0]*frames.shape[1], frames.shape[2]))\n",
    "    background = frames\n",
    "    # frames.shape #The reshaped array is of size (84480, 999). Here, each row corresponds to the entire \"Pixel process\" of one Pixel\n",
    "    means = np.zeros((4,84480))\n",
    "    var = np.zeros((4,84480))\n",
    "    wts = np.zeros((4,84480))\n",
    "    init_params(frames, means, var, wts)\n",
    "    F = 0 # Flag for classification (0 if background, 1 if foreground)\n",
    "    for i in range(0,84480): #For every pixel\n",
    "        for j in range(0,numFrames): #For every frame\n",
    "            means[:,i],var[:,i],wts[:,i], F = GMM(frames[i,j], means[:,i], var[:,i], wts[:,i])\n",
    "            output[i,j] = F\n",
    "            if F!=0:\n",
    "                background[i,j] = np.mean(frames[i,:])\n",
    "                background[i:i+5,j:j+5] = np.mean(frames[i,:])\n",
    "                background[i-5:i,j-5:j] = np.mean(frames[i,:])\n",
    "        print(i)"
   ]
  },
  {
   "cell_type": "code",
   "execution_count": 16,
   "metadata": {},
   "outputs": [
    {
     "name": "stdout",
     "output_type": "stream",
     "text": [
      "14.768151140213012\n"
     ]
    }
   ],
   "source": [
    "    for i in range(numFrames):\n",
    "        outframe = output[:,i].reshape((240,352))\n",
    "        outframe = cv2.resize(outframe, (352,240))\n",
    "        backframe = background[:,i].reshape((240,352))\n",
    "        backframe = cv2.resize(backframe, (352,240))\n",
    "        out.write(np.uint8(outframe))\n",
    "        back.write(np.uint8(backframe))\n",
    "        cv2.imwrite(\"/home/ajey/Desktop/ELL784/Assignment1/background_frames/output_\"+str(i)+\".jpg\",outframe)\n",
    "        cv2.imwrite(\"/home/ajey/Desktop/ELL784/Assignment1/back_minus/\"+str(i)+\".jpg\",backframe)\n",
    "    out.release()\n",
    "    back.release()\n",
    "    end = time.time()\n",
    "    print((end-start)/60)"
   ]
  }
 ],
 "metadata": {
  "kernelspec": {
   "display_name": "Python 3",
   "language": "python",
   "name": "python3"
  },
  "language_info": {
   "codemirror_mode": {
    "name": "ipython",
    "version": 3
   },
   "file_extension": ".py",
   "mimetype": "text/x-python",
   "name": "python",
   "nbconvert_exporter": "python",
   "pygments_lexer": "ipython3",
   "version": "3.7.5"
  }
 },
 "nbformat": 4,
 "nbformat_minor": 2
}
